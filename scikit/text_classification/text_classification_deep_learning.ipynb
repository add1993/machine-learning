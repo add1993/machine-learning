{
 "cells": [
  {
   "cell_type": "code",
   "execution_count": 1,
   "metadata": {},
   "outputs": [
    {
     "name": "stderr",
     "output_type": "stream",
     "text": [
      "Using TensorFlow backend.\n"
     ]
    },
    {
     "name": "stdout",
     "output_type": "stream",
     "text": [
      "Target\n",
      "[10  3 17 ...  3  1  7]\n",
      "Avg = 292.4769712405816 Std = 666.9329063050876\n"
     ]
    },
    {
     "name": "stderr",
     "output_type": "stream",
     "text": [
      "WARNING: Logging before flag parsing goes to stderr.\n",
      "W0627 14:00:38.480146 4391761344 deprecation_wrapper.py:119] From /usr/local/lib/python3.7/site-packages/keras/backend/tensorflow_backend.py:74: The name tf.get_default_graph is deprecated. Please use tf.compat.v1.get_default_graph instead.\n",
      "\n"
     ]
    },
    {
     "name": "stdout",
     "output_type": "stream",
     "text": [
      "Found 1917494 word vectors.\n"
     ]
    },
    {
     "name": "stderr",
     "output_type": "stream",
     "text": [
      "W0627 14:00:38.506072 4391761344 deprecation_wrapper.py:119] From /usr/local/lib/python3.7/site-packages/keras/backend/tensorflow_backend.py:517: The name tf.placeholder is deprecated. Please use tf.compat.v1.placeholder instead.\n",
      "\n",
      "W0627 14:00:38.515618 4391761344 deprecation_wrapper.py:119] From /usr/local/lib/python3.7/site-packages/keras/backend/tensorflow_backend.py:4138: The name tf.random_uniform is deprecated. Please use tf.random.uniform instead.\n",
      "\n",
      "W0627 14:00:38.529120 4391761344 deprecation_wrapper.py:119] From /usr/local/lib/python3.7/site-packages/keras/backend/tensorflow_backend.py:174: The name tf.get_default_session is deprecated. Please use tf.compat.v1.get_default_session instead.\n",
      "\n",
      "W0627 14:00:38.529820 4391761344 deprecation_wrapper.py:119] From /usr/local/lib/python3.7/site-packages/keras/backend/tensorflow_backend.py:181: The name tf.ConfigProto is deprecated. Please use tf.compat.v1.ConfigProto instead.\n",
      "\n",
      "W0627 14:00:38.669466 4391761344 deprecation_wrapper.py:119] From /usr/local/lib/python3.7/site-packages/keras/backend/tensorflow_backend.py:3976: The name tf.nn.max_pool is deprecated. Please use tf.nn.max_pool2d instead.\n",
      "\n",
      "W0627 14:00:38.730638 4391761344 deprecation_wrapper.py:119] From /usr/local/lib/python3.7/site-packages/keras/optimizers.py:790: The name tf.train.Optimizer is deprecated. Please use tf.compat.v1.train.Optimizer instead.\n",
      "\n",
      "W0627 14:00:38.748119 4391761344 deprecation.py:323] From /Users/adobhal/Library/Python/3.7/lib/python/site-packages/tensorflow/python/ops/nn_impl.py:180: add_dispatch_support.<locals>.wrapper (from tensorflow.python.ops.array_ops) is deprecated and will be removed in a future version.\n",
      "Instructions for updating:\n",
      "Use tf.where in 2.0, which has the same broadcast rule as np.where\n"
     ]
    },
    {
     "name": "stdout",
     "output_type": "stream",
     "text": [
      "_________________________________________________________________\n",
      "Layer (type)                 Output Shape              Param #   \n",
      "=================================================================\n",
      "embedding_1 (Embedding)      (None, 100, 300)          6000000   \n",
      "_________________________________________________________________\n",
      "conv1d_1 (Conv1D)            (None, 98, 128)           115328    \n",
      "_________________________________________________________________\n",
      "max_pooling1d_1 (MaxPooling1 (None, 32, 128)           0         \n",
      "_________________________________________________________________\n",
      "conv1d_2 (Conv1D)            (None, 30, 128)           49280     \n",
      "_________________________________________________________________\n",
      "max_pooling1d_2 (MaxPooling1 (None, 10, 128)           0         \n",
      "_________________________________________________________________\n",
      "conv1d_3 (Conv1D)            (None, 8, 128)            49280     \n",
      "_________________________________________________________________\n",
      "max_pooling1d_3 (MaxPooling1 (None, 2, 128)            0         \n",
      "_________________________________________________________________\n",
      "flatten_1 (Flatten)          (None, 256)               0         \n",
      "_________________________________________________________________\n",
      "dense_1 (Dense)              (None, 128)               32896     \n",
      "_________________________________________________________________\n",
      "dense_2 (Dense)              (None, 20)                2580      \n",
      "=================================================================\n",
      "Total params: 6,249,364\n",
      "Trainable params: 249,364\n",
      "Non-trainable params: 6,000,000\n",
      "_________________________________________________________________\n",
      "Train on 15076 samples, validate on 3770 samples\n",
      "Epoch 1/10\n",
      "15076/15076 [==============================] - 10s 690us/step - loss: 0.1364 - categorical_accuracy: 0.3677 - mean_squared_error: 0.0366 - val_loss: 0.0956 - val_categorical_accuracy: 0.5793 - val_mean_squared_error: 0.0268\n",
      "Epoch 2/10\n",
      "15076/15076 [==============================] - 10s 664us/step - loss: 0.0828 - categorical_accuracy: 0.6495 - mean_squared_error: 0.0231 - val_loss: 0.0831 - val_categorical_accuracy: 0.6666 - val_mean_squared_error: 0.0227\n",
      "Epoch 3/10\n",
      "15076/15076 [==============================] - 10s 657us/step - loss: 0.0634 - categorical_accuracy: 0.7448 - mean_squared_error: 0.0176 - val_loss: 0.0829 - val_categorical_accuracy: 0.6690 - val_mean_squared_error: 0.0223\n",
      "Epoch 4/10\n",
      "15076/15076 [==============================] - 10s 666us/step - loss: 0.0491 - categorical_accuracy: 0.8053 - mean_squared_error: 0.0137 - val_loss: 0.0812 - val_categorical_accuracy: 0.6939 - val_mean_squared_error: 0.0212\n",
      "Epoch 5/10\n",
      "15076/15076 [==============================] - 10s 684us/step - loss: 0.0367 - categorical_accuracy: 0.8559 - mean_squared_error: 0.0102 - val_loss: 0.0839 - val_categorical_accuracy: 0.7061 - val_mean_squared_error: 0.0210\n",
      "Epoch 6/10\n",
      "15076/15076 [==============================] - 10s 657us/step - loss: 0.0258 - categorical_accuracy: 0.9028 - mean_squared_error: 0.0071 - val_loss: 0.0908 - val_categorical_accuracy: 0.6910 - val_mean_squared_error: 0.0222\n",
      "Epoch 7/10\n",
      "15076/15076 [==============================] - 10s 650us/step - loss: 0.0194 - categorical_accuracy: 0.9294 - mean_squared_error: 0.0053 - val_loss: 0.0938 - val_categorical_accuracy: 0.6997 - val_mean_squared_error: 0.0217\n",
      "Epoch 8/10\n",
      "15076/15076 [==============================] - 10s 658us/step - loss: 0.0145 - categorical_accuracy: 0.9462 - mean_squared_error: 0.0039 - val_loss: 0.1092 - val_categorical_accuracy: 0.7122 - val_mean_squared_error: 0.0224\n",
      "Epoch 9/10\n",
      "15076/15076 [==============================] - 10s 650us/step - loss: 0.0140 - categorical_accuracy: 0.9518 - mean_squared_error: 0.0037 - val_loss: 0.1151 - val_categorical_accuracy: 0.6992 - val_mean_squared_error: 0.0232\n",
      "Epoch 10/10\n",
      "15076/15076 [==============================] - 10s 649us/step - loss: 0.0105 - categorical_accuracy: 0.9636 - mean_squared_error: 0.0027 - val_loss: 0.1148 - val_categorical_accuracy: 0.7138 - val_mean_squared_error: 0.0225\n"
     ]
    },
    {
     "data": {
      "text/plain": [
       "<keras.callbacks.History at 0x1655e0470>"
      ]
     },
     "execution_count": 1,
     "metadata": {},
     "output_type": "execute_result"
    }
   ],
   "source": [
    "import os\n",
    "import numpy as np\n",
    "from keras.layers import Activation, Conv1D, Dense, Embedding, Flatten, Input, MaxPooling1D\n",
    "from keras.models import Sequential\n",
    "from keras.preprocessing.text import Tokenizer\n",
    "from keras.preprocessing.sequence import pad_sequences\n",
    "from sklearn.datasets import fetch_20newsgroups\n",
    "from sklearn.datasets.base import get_data_home\n",
    "from keras.metrics import categorical_accuracy\n",
    "from keras.utils import to_categorical\n",
    "\n",
    "dataset = fetch_20newsgroups(subset='all', shuffle=True, download_if_missing=False)\n",
    "\n",
    "texts = dataset.data # Extract text\n",
    "target = dataset.target # Extract target\n",
    "print(\"Target\")\n",
    "print(target)\n",
    "\n",
    "vocab_size = 20000\n",
    "\n",
    "tokenizer = Tokenizer(num_words=vocab_size) # Setup tokenizer\n",
    "tokenizer.fit_on_texts(texts)\n",
    "sequences = tokenizer.texts_to_sequences(texts) # Generate sequences\n",
    "\n",
    "inv_index = {v: k for k, v in tokenizer.word_index.items()}\n",
    "\n",
    "avg = sum(map(len, sequences)) / len(sequences)\n",
    "\n",
    "max_length = 100\n",
    "data = pad_sequences(sequences, maxlen=max_length)\n",
    "\n",
    "# Get the standard deviation of the sequence length\n",
    "std = np.sqrt(sum(map(lambda x: (len(x) - avg)**2, sequences)) / len(sequences))\n",
    "print(\"Avg = \"+str(avg)+ \" Std = \"+str(std))\n",
    "\n",
    "labels = to_categorical(np.asarray(target))\n",
    "\n",
    "embeddings_index = {}\n",
    "GLOVE_DIR = \"\"\n",
    "f = open(os.path.join(GLOVE_DIR, 'glove.42B.300d.txt'))\n",
    "for line in f:\n",
    "    values = line.split()\n",
    "    word = values[0]\n",
    "    coefs = np.asarray(values[1:], dtype='float32')\n",
    "    embeddings_index[word] = coefs\n",
    "f.close()\n",
    "\n",
    "print('Found %s word vectors.' % len(embeddings_index))\n",
    "\n",
    "embedding_dim = 300 # We use 100 dimensional glove vectors\n",
    "\n",
    "word_index = tokenizer.word_index\n",
    "nb_words = min(vocab_size, len(word_index)) # How many words are there actually\n",
    "\n",
    "embedding_matrix = np.zeros((nb_words, embedding_dim))\n",
    "\n",
    "# The vectors need to be in the same position as their index. \n",
    "# Meaning a word with token 1 needs to be in the second row (rows start with zero) and so on\n",
    "\n",
    "# Loop over all words in the word index\n",
    "for word, i in word_index.items():\n",
    "    # If we are above the amount of words we want to use we do nothing\n",
    "    if i >= vocab_size: \n",
    "        continue\n",
    "    # Get the embedding vector for the word\n",
    "    embedding_vector = embeddings_index.get(word)\n",
    "    # If there is an embedding vector, put it in the embedding matrix\n",
    "    if embedding_vector is not None: \n",
    "        embedding_matrix[i] = embedding_vector\n",
    "\n",
    "model = Sequential()\n",
    "model.add(Embedding(vocab_size, \n",
    "                    embedding_dim, \n",
    "                    input_length=max_length, \n",
    "                    weights = [embedding_matrix], \n",
    "                    trainable = False))\n",
    "model.add(Conv1D(128, 3, activation='relu'))\n",
    "model.add(MaxPooling1D(3))\n",
    "model.add(Conv1D(128, 3, activation='relu'))\n",
    "model.add(MaxPooling1D(3))\n",
    "model.add(Conv1D(128, 3, activation='relu'))\n",
    "model.add(MaxPooling1D(3))\n",
    "model.add(Flatten())\n",
    "model.add(Dense(128, activation='relu'))\n",
    "model.add(Dense(20, activation='softmax'))\n",
    "model.summary()\n",
    "\n",
    "model.compile(loss='binary_crossentropy', optimizer='adam', metrics=[categorical_accuracy, 'mse'])\n",
    "\n",
    "model.fit(data, labels, validation_split=0.2, epochs=10)"
   ]
  },
  {
   "cell_type": "code",
   "execution_count": null,
   "metadata": {},
   "outputs": [],
   "source": []
  }
 ],
 "metadata": {
  "kernelspec": {
   "display_name": "Python 3",
   "language": "python",
   "name": "python3"
  },
  "language_info": {
   "codemirror_mode": {
    "name": "ipython",
    "version": 3
   },
   "file_extension": ".py",
   "mimetype": "text/x-python",
   "name": "python",
   "nbconvert_exporter": "python",
   "pygments_lexer": "ipython3",
   "version": "3.7.3"
  }
 },
 "nbformat": 4,
 "nbformat_minor": 2
}
